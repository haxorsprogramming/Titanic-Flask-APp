{
  "cells": [
    {
      "cell_type": "code",
      "execution_count": 1,
      "metadata": {
        "id": "YrVHiwwvRtUz"
      },
      "outputs": [],
      "source": [
        "import numpy as np\n",
        "import pandas as pd\n",
        "from sklearn.preprocessing import LabelEncoder, StandardScaler"
      ]
    },
    {
      "cell_type": "code",
      "execution_count": 2,
      "metadata": {
        "id": "sm1n-Qs0SGb3"
      },
      "outputs": [],
      "source": [
        "train = pd.read_csv('/content/train.csv')\n",
        "test = pd.read_csv('/content/test.csv')"
      ]
    },
    {
      "cell_type": "code",
      "execution_count": 3,
      "metadata": {
        "id": "jPW6Tl8rR__C"
      },
      "outputs": [],
      "source": [
        "#buat satu set untuk memproses semua data sekaligus\n",
        "train['set'], test['set'] = 'train', 'test'\n",
        "combined = pd.concat([train, test])"
      ]
    },
    {
      "cell_type": "markdown",
      "metadata": {
        "id": "KkYr0YnwShXh"
      },
      "source": [
        "**MISSING VALUE**"
      ]
    },
    {
      "cell_type": "code",
      "execution_count": 4,
      "metadata": {
        "id": "7Zva9l-OSngk"
      },
      "outputs": [],
      "source": [
        "#mengisi missing value dan menghilangkan kolom yang tidak digunakan"
      ]
    },
    {
      "cell_type": "code",
      "execution_count": 5,
      "metadata": {
        "colab": {
          "base_uri": "https://localhost:8080/"
        },
        "id": "bXC2wbd0SyQn",
        "outputId": "ee7c06f6-4a8c-431e-e8bd-917115369884"
      },
      "outputs": [
        {
          "data": {
            "text/plain": [
              "PassengerId       0\n",
              "Survived        418\n",
              "Pclass            0\n",
              "Name              0\n",
              "Sex               0\n",
              "Age             263\n",
              "SibSp             0\n",
              "Parch             0\n",
              "Ticket            0\n",
              "Fare              1\n",
              "Cabin          1014\n",
              "Embarked          2\n",
              "set               0\n",
              "dtype: int64"
            ]
          },
          "execution_count": 5,
          "metadata": {},
          "output_type": "execute_result"
        }
      ],
      "source": [
        "combined.isnull().sum()"
      ]
    },
    {
      "cell_type": "code",
      "execution_count": 6,
      "metadata": {
        "id": "xbanurNiS21Y"
      },
      "outputs": [],
      "source": [
        "pclass = combined.loc[combined.Fare.isnull(), 'Pclass'].values[0]\n",
        "median_fare = combined.loc[combined.Pclass== pclass, 'Fare'].median()\n",
        "combined.loc[combined.Fare.isnull(), 'Fare'] = median_fare"
      ]
    },
    {
      "cell_type": "code",
      "execution_count": 7,
      "metadata": {
        "colab": {
          "base_uri": "https://localhost:8080/"
        },
        "id": "NrZ1O9-MS6Wx",
        "outputId": "5b617578-6d61-4b2b-cdd4-8c464a073bb7"
      },
      "outputs": [
        {
          "data": {
            "text/plain": [
              "array(['Mr', 'Mrs', 'Miss', 'Master', 'Don', 'Rev', 'Dr', 'Mme', 'Ms',\n",
              "       'Major', 'Lady', 'Sir', 'Mlle', 'Col', 'Capt', 'Countess',\n",
              "       'Jonkheer', 'Dona'], dtype=object)"
            ]
          },
          "execution_count": 7,
          "metadata": {},
          "output_type": "execute_result"
        }
      ],
      "source": [
        "#MISSING AGE\n",
        "combined['Title'] = combined['Name'].str.extract('([A-Za-z]+)\\.', expand=True)\n",
        "combined['Title'].unique()"
      ]
    },
    {
      "cell_type": "code",
      "execution_count": 8,
      "metadata": {
        "colab": {
          "base_uri": "https://localhost:8080/"
        },
        "id": "ZD6mxXCBTEhi",
        "outputId": "8ab21144-b5ff-4793-dff4-c59f2b56efec"
      },
      "outputs": [
        {
          "data": {
            "text/plain": [
              "array(['Mr', 'Mrs', 'Miss', 'Master', 'Rev', 'Dr'], dtype=object)"
            ]
          },
          "execution_count": 8,
          "metadata": {},
          "output_type": "execute_result"
        }
      ],
      "source": [
        "title_reduction = {'Mr': 'Mr', 'Mrs': 'Mrs', 'Miss': 'Miss', \n",
        "                   'Master': 'Master', 'Don': 'Mr', 'Rev': 'Rev',\n",
        "                   'Dr': 'Dr', 'Mme': 'Miss', 'Ms': 'Miss',\n",
        "                   'Major': 'Mr', 'Lady': 'Mrs', 'Sir': 'Mr',\n",
        "                   'Mlle': 'Miss', 'Col': 'Mr', 'Capt': 'Mr',\n",
        "                   'Countess': 'Mrs','Jonkheer': 'Mr',\n",
        "                   'Dona': 'Mrs'}\n",
        "combined['Title'] = combined['Title'].map(title_reduction)\n",
        "combined['Title'].unique()"
      ]
    },
    {
      "cell_type": "code",
      "execution_count": 9,
      "metadata": {
        "colab": {
          "base_uri": "https://localhost:8080/"
        },
        "id": "BGi4tW9aTL65",
        "outputId": "6bb0008e-c3a8-4f51-f760-8e013a1f910c"
      },
      "outputs": [
        {
          "name": "stdout",
          "output_type": "stream",
          "text": [
            "Dr 49.0\n",
            "Master 4.0\n",
            "Miss 22.0\n",
            "Mr 30.0\n",
            "Mrs 36.0\n",
            "Rev 41.5\n"
          ]
        }
      ],
      "source": [
        "for title, age in combined.groupby('Title')['Age'].median().iteritems():\n",
        "    print(title, age)\n",
        "    combined.loc[(combined['Title']==title) & (combined['Age'].isnull()), 'Age'] = age"
      ]
    },
    {
      "cell_type": "code",
      "execution_count": 10,
      "metadata": {
        "colab": {
          "base_uri": "https://localhost:8080/"
        },
        "id": "5cs7GnfhTMGm",
        "outputId": "557afedd-033c-435d-eaa1-97ff44de856d"
      },
      "outputs": [
        {
          "data": {
            "text/plain": [
              "PassengerId       0\n",
              "Survived        418\n",
              "Pclass            0\n",
              "Name              0\n",
              "Sex               0\n",
              "Age               0\n",
              "SibSp             0\n",
              "Parch             0\n",
              "Ticket            0\n",
              "Fare              0\n",
              "Cabin          1014\n",
              "Embarked          2\n",
              "set               0\n",
              "Title             0\n",
              "dtype: int64"
            ]
          },
          "execution_count": 10,
          "metadata": {},
          "output_type": "execute_result"
        }
      ],
      "source": [
        "combined.isnull().sum()"
      ]
    },
    {
      "cell_type": "code",
      "execution_count": 11,
      "metadata": {
        "id": "LP8d2oEwUkEx"
      },
      "outputs": [],
      "source": [
        "def other_family_members_survived(dataset, label='family_survival'):\n",
        "    \"\"\"\n",
        "    Periksa apakah anggota keluarga lainnya selamat\n",
        "\n",
        "\n",
        "      -> 0 tidak ada yang selamat\n",
        "      -> 1 setidaknya satu anggota keluarga lainnya selamat\n",
        "      -> 0.5 tidak diketahui apakah anggota lain selamat atau seseorang sendirian\n",
        "    \n",
        "    \"\"\"\n",
        "    ds = dataset.copy()\n",
        "    if len(dataset) == 1:\n",
        "        ds[label] = 0.5\n",
        "        return ds\n",
        "    result = []\n",
        "    for ix, row in dataset.iterrows():\n",
        "        survived_fraction = dataset.drop(ix)['Survived'].mean()\n",
        "        if np.isnan(survived_fraction):\n",
        "            result.append(0.5)\n",
        "        elif survived_fraction == 0:\n",
        "            result.append(0)\n",
        "        else:\n",
        "            result.append(1)\n",
        "    ds[label] = result\n",
        "    return ds"
      ]
    },
    {
      "cell_type": "code",
      "execution_count": 12,
      "metadata": {
        "id": "KqX5UnjgVS6w"
      },
      "outputs": [],
      "source": [
        "combined['surname'] = combined['Name'].apply(lambda x: x.split(\",\")[0])\n",
        "combined = combined.groupby(['surname', 'Fare']).apply(other_family_members_survived).reset_index(drop=True)"
      ]
    },
    {
      "cell_type": "code",
      "execution_count": 13,
      "metadata": {
        "id": "38KEGirFVXBV"
      },
      "outputs": [],
      "source": [
        "#Data keluarga yang hilang juga dapat diambil dari Tiket. Pemesanan tiket yang sama memiliki nomor tiket yang sama.\n",
        "combined = combined.groupby(['Ticket']).apply(lambda x: other_family_members_survived(x, label='family_survival_ticket')).reset_index(drop=True)\n",
        "combined.loc[combined['family_survival'] == 0.5, 'family_survival'] = combined.loc[combined['family_survival'] == 0.5, 'family_survival_ticket']"
      ]
    },
    {
      "cell_type": "code",
      "execution_count": 14,
      "metadata": {
        "id": "gTRzOs4FVjmf"
      },
      "outputs": [],
      "source": [
        "#Dapatkan ukuran keluarga dari Parch dan Sibsp\n",
        "\n",
        "combined['family_size'] = combined['Parch'] + combined['SibSp']"
      ]
    },
    {
      "cell_type": "code",
      "execution_count": 15,
      "metadata": {
        "id": "Mt_FTRZ1Vr6r"
      },
      "outputs": [],
      "source": [
        "#Convert feature to number\n",
        "combined['Sex'] = LabelEncoder().fit_transform(combined['Sex'])"
      ]
    },
    {
      "cell_type": "code",
      "execution_count": 16,
      "metadata": {
        "id": "GvfTIH5xV4Bo"
      },
      "outputs": [],
      "source": [
        "combined.loc[:, 'Age'] = pd.qcut(combined['Age'], 4, labels=False)\n",
        "combined.loc[:, 'Fare'] = pd.qcut(combined['Fare'], 5, labels=False)"
      ]
    },
    {
      "cell_type": "code",
      "execution_count": 17,
      "metadata": {
        "id": "L_byWxYDWBPy"
      },
      "outputs": [],
      "source": [
        "#Pilih hanya kolom yang akan kita gunakan dan skalakan\n",
        "selected = ['Pclass', 'Sex', 'Age', 'Fare', 'family_size', 'family_survival']\n",
        "scaler  = StandardScaler()\n",
        "scaler.fit(combined[selected])\n",
        "combined[selected] = scaler.transform(combined[selected])"
      ]
    },
    {
      "cell_type": "code",
      "execution_count": 18,
      "metadata": {
        "id": "mnVPUONRWLuB"
      },
      "outputs": [],
      "source": [
        "combined.to_parquet('titanic_family_survivabillity.parquet', index=False)"
      ]
    },
    {
      "cell_type": "code",
      "execution_count": 19,
      "metadata": {
        "id": "UWafZHB_WQRE"
      },
      "outputs": [],
      "source": [
        "train = combined.loc[combined['set'] == 'train'].drop('set', axis=1).reset_index(drop=True)\n",
        "test = combined.loc[combined['set'] == 'test'].drop(['set', 'Survived'], axis=1).reset_index(drop=True)"
      ]
    },
    {
      "cell_type": "markdown",
      "metadata": {
        "id": "0W6eyAtqWThI"
      },
      "source": [
        "**MODEL KNN**"
      ]
    },
    {
      "cell_type": "code",
      "execution_count": 20,
      "metadata": {
        "colab": {
          "base_uri": "https://localhost:8080/"
        },
        "id": "L6SIlW-dWV4a",
        "outputId": "6a2de2e6-5ebd-445c-9b38-8c60071a1454"
      },
      "outputs": [
        {
          "data": {
            "text/plain": [
              "5.0"
            ]
          },
          "execution_count": 20,
          "metadata": {},
          "output_type": "execute_result"
        }
      ],
      "source": [
        "def euclidean_distance(vector1, vector2):\n",
        "    return np.sqrt(np.sum((vector1 - vector2)**2))\n",
        "\n",
        "# test function\n",
        "vec1 = np.array([3, 0])\n",
        "vec2 = np.array([0, 4])\n",
        "\n",
        "# this is the 3:4:5 triangle and therefore, it should return 5 (Long live Pythagoras)\n",
        "euclidean_distance(vec1, vec2)"
      ]
    },
    {
      "cell_type": "code",
      "execution_count": 21,
      "metadata": {
        "colab": {
          "base_uri": "https://localhost:8080/",
          "height": 81
        },
        "id": "iihgCRS7WY5A",
        "outputId": "1d4b8bc3-95a0-4f74-dc4f-660bc3619016"
      },
      "outputs": [
        {
          "data": {
            "text/html": [
              "\n",
              "  <div id=\"df-c23cc006-563e-4ef4-bfe5-286ebfc6845d\">\n",
              "    <div class=\"colab-df-container\">\n",
              "      <div>\n",
              "<style scoped>\n",
              "    .dataframe tbody tr th:only-of-type {\n",
              "        vertical-align: middle;\n",
              "    }\n",
              "\n",
              "    .dataframe tbody tr th {\n",
              "        vertical-align: top;\n",
              "    }\n",
              "\n",
              "    .dataframe thead th {\n",
              "        text-align: right;\n",
              "    }\n",
              "</style>\n",
              "<table border=\"1\" class=\"dataframe\">\n",
              "  <thead>\n",
              "    <tr style=\"text-align: right;\">\n",
              "      <th></th>\n",
              "      <th>a</th>\n",
              "      <th>b</th>\n",
              "      <th>Survived</th>\n",
              "    </tr>\n",
              "  </thead>\n",
              "  <tbody>\n",
              "    <tr>\n",
              "      <th>1</th>\n",
              "      <td>2</td>\n",
              "      <td>2</td>\n",
              "      <td>1</td>\n",
              "    </tr>\n",
              "  </tbody>\n",
              "</table>\n",
              "</div>\n",
              "      <button class=\"colab-df-convert\" onclick=\"convertToInteractive('df-c23cc006-563e-4ef4-bfe5-286ebfc6845d')\"\n",
              "              title=\"Convert this dataframe to an interactive table.\"\n",
              "              style=\"display:none;\">\n",
              "        \n",
              "  <svg xmlns=\"http://www.w3.org/2000/svg\" height=\"24px\"viewBox=\"0 0 24 24\"\n",
              "       width=\"24px\">\n",
              "    <path d=\"M0 0h24v24H0V0z\" fill=\"none\"/>\n",
              "    <path d=\"M18.56 5.44l.94 2.06.94-2.06 2.06-.94-2.06-.94-.94-2.06-.94 2.06-2.06.94zm-11 1L8.5 8.5l.94-2.06 2.06-.94-2.06-.94L8.5 2.5l-.94 2.06-2.06.94zm10 10l.94 2.06.94-2.06 2.06-.94-2.06-.94-.94-2.06-.94 2.06-2.06.94z\"/><path d=\"M17.41 7.96l-1.37-1.37c-.4-.4-.92-.59-1.43-.59-.52 0-1.04.2-1.43.59L10.3 9.45l-7.72 7.72c-.78.78-.78 2.05 0 2.83L4 21.41c.39.39.9.59 1.41.59.51 0 1.02-.2 1.41-.59l7.78-7.78 2.81-2.81c.8-.78.8-2.07 0-2.86zM5.41 20L4 18.59l7.72-7.72 1.47 1.35L5.41 20z\"/>\n",
              "  </svg>\n",
              "      </button>\n",
              "      \n",
              "  <style>\n",
              "    .colab-df-container {\n",
              "      display:flex;\n",
              "      flex-wrap:wrap;\n",
              "      gap: 12px;\n",
              "    }\n",
              "\n",
              "    .colab-df-convert {\n",
              "      background-color: #E8F0FE;\n",
              "      border: none;\n",
              "      border-radius: 50%;\n",
              "      cursor: pointer;\n",
              "      display: none;\n",
              "      fill: #1967D2;\n",
              "      height: 32px;\n",
              "      padding: 0 0 0 0;\n",
              "      width: 32px;\n",
              "    }\n",
              "\n",
              "    .colab-df-convert:hover {\n",
              "      background-color: #E2EBFA;\n",
              "      box-shadow: 0px 1px 2px rgba(60, 64, 67, 0.3), 0px 1px 3px 1px rgba(60, 64, 67, 0.15);\n",
              "      fill: #174EA6;\n",
              "    }\n",
              "\n",
              "    [theme=dark] .colab-df-convert {\n",
              "      background-color: #3B4455;\n",
              "      fill: #D2E3FC;\n",
              "    }\n",
              "\n",
              "    [theme=dark] .colab-df-convert:hover {\n",
              "      background-color: #434B5C;\n",
              "      box-shadow: 0px 1px 3px 1px rgba(0, 0, 0, 0.15);\n",
              "      filter: drop-shadow(0px 1px 2px rgba(0, 0, 0, 0.3));\n",
              "      fill: #FFFFFF;\n",
              "    }\n",
              "  </style>\n",
              "\n",
              "      <script>\n",
              "        const buttonEl =\n",
              "          document.querySelector('#df-c23cc006-563e-4ef4-bfe5-286ebfc6845d button.colab-df-convert');\n",
              "        buttonEl.style.display =\n",
              "          google.colab.kernel.accessAllowed ? 'block' : 'none';\n",
              "\n",
              "        async function convertToInteractive(key) {\n",
              "          const element = document.querySelector('#df-c23cc006-563e-4ef4-bfe5-286ebfc6845d');\n",
              "          const dataTable =\n",
              "            await google.colab.kernel.invokeFunction('convertToInteractive',\n",
              "                                                     [key], {});\n",
              "          if (!dataTable) return;\n",
              "\n",
              "          const docLinkHtml = 'Like what you see? Visit the ' +\n",
              "            '<a target=\"_blank\" href=https://colab.research.google.com/notebooks/data_table.ipynb>data table notebook</a>'\n",
              "            + ' to learn more about interactive tables.';\n",
              "          element.innerHTML = '';\n",
              "          dataTable['output_type'] = 'display_data';\n",
              "          await google.colab.output.renderOutput(dataTable, element);\n",
              "          const docLink = document.createElement('div');\n",
              "          docLink.innerHTML = docLinkHtml;\n",
              "          element.appendChild(docLink);\n",
              "        }\n",
              "      </script>\n",
              "    </div>\n",
              "  </div>\n",
              "  "
            ],
            "text/plain": [
              "   a  b  Survived\n",
              "1  2  2         1"
            ]
          },
          "execution_count": 21,
          "metadata": {},
          "output_type": "execute_result"
        }
      ],
      "source": [
        "# A first implementation\n",
        "def get_nearest_neighbor(vector, dataset, number_of_neighbors=1, ignore_cols=['Survived']):\n",
        "    distances = []\n",
        "    for ix, row in dataset.loc[:, ~dataset.columns.isin(ignore_cols)].iterrows():\n",
        "        distance = euclidean_distance(row, vector)\n",
        "        distances.append((distance, ix))\n",
        "    indices = [x[1] for x in sorted(distances, key=lambda x: x[0])]\n",
        "    neighbors = dataset.loc[indices[:number_of_neighbors]]\n",
        "    return neighbors\n",
        "\n",
        "# Another implementation using Pandas\n",
        "def get_nearest_neighbor(vector, dataset, number_of_vectors=1, ignore_cols=['Survived'], not_count_duplicates=False):\n",
        "    ds = dataset.copy()\n",
        "    ds['distance'] = ds.loc[:, ~ds.columns.isin(ignore_cols)].apply(\n",
        "        lambda x: euclidean_distance(x, vector), axis=1)\n",
        "    if not_count_duplicates:\n",
        "        distances = sorted(ds.distance.unique())[:number_of_vectors]\n",
        "        return ds.loc[ds.distance <= max(distances)].drop('distance', axis=1)\n",
        "    return ds.sort_values('distance', ascending=True).head(number_of_vectors).drop('distance', axis=1)\n",
        "        \n",
        "# test function\n",
        "dataset = pd.DataFrame([\n",
        "    {'a': 1, 'b': 1, 'Survived': 1},\n",
        "    {'a': 2, 'b': 2, 'Survived': 1},\n",
        "    {'a': 3, 'b': 3, 'Survived': 0},\n",
        "    {'a': 4, 'b': 4, 'Survived': 0},\n",
        "    {'a': 5, 'b': 5, 'Survived': 0},\n",
        "])\n",
        "vector = pd.Series({'a': 2.5, 'b': 2.5})\n",
        "\n",
        "# should be (2,2) and (3,3) (if keeping track of duplicates)\n",
        "get_nearest_neighbor(vector, dataset)"
      ]
    },
    {
      "cell_type": "code",
      "execution_count": 22,
      "metadata": {
        "colab": {
          "base_uri": "https://localhost:8080/"
        },
        "id": "3HFIf9ILWcsp",
        "outputId": "283f056c-2197-48c7-d05f-37f261923996"
      },
      "outputs": [
        {
          "name": "stdout",
          "output_type": "stream",
          "text": [
            "1\n",
            "0\n"
          ]
        }
      ],
      "source": [
        "def predict(vector, dataset, number_of_neighbors=1, y='Survived'):\n",
        "    neighbors = get_nearest_neighbor(vector, dataset, number_of_neighbors)\n",
        "    return round(neighbors[y].mean())\n",
        "\n",
        "# test function\n",
        "print(predict(vector, dataset))\n",
        "print(predict(pd.Series({'a': 4.5, 'b': 4.5}), dataset))"
      ]
    },
    {
      "cell_type": "code",
      "execution_count": 24,
      "metadata": {
        "id": "KFQcZXzGWpYw"
      },
      "outputs": [],
      "source": [
        "#Membuat Prediksi \n",
        "def predict_testset(test_dataset, train_dataset, number_of_neighbors=1):\n",
        "    ds = test_dataset.copy()\n",
        "    select = selected + ['Survived']\n",
        "    \n",
        "    def predict_row(vector, dataset):\n",
        "        if vector.name % 100 == 0:\n",
        "            print(vector.name)\n",
        "        return int(predict(vector, dataset[select], number_of_neighbors))\n",
        "\n",
        "    ds['Survived'] = ds.loc[:, ds.columns.isin(selected)].apply(\n",
        "        lambda x: predict_row(x, train_dataset), axis=1)\n",
        "    \n",
        "    return ds"
      ]
    },
    {
      "cell_type": "code",
      "execution_count": 27,
      "metadata": {
        "colab": {
          "base_uri": "https://localhost:8080/",
          "height": 510
        },
        "id": "6mdy_cahW46i",
        "outputId": "e3bad002-63b4-4a60-a5f4-8dc8d454f165"
      },
      "outputs": [
        {
          "name": "stdout",
          "output_type": "stream",
          "text": [
            "0\n",
            "100\n",
            "200\n",
            "300\n",
            "400\n"
          ]
        },
        {
          "data": {
            "text/html": [
              "\n",
              "  <div id=\"df-4d98abc6-bb56-4567-b712-8e691dc14f10\">\n",
              "    <div class=\"colab-df-container\">\n",
              "      <div>\n",
              "<style scoped>\n",
              "    .dataframe tbody tr th:only-of-type {\n",
              "        vertical-align: middle;\n",
              "    }\n",
              "\n",
              "    .dataframe tbody tr th {\n",
              "        vertical-align: top;\n",
              "    }\n",
              "\n",
              "    .dataframe thead th {\n",
              "        text-align: right;\n",
              "    }\n",
              "</style>\n",
              "<table border=\"1\" class=\"dataframe\">\n",
              "  <thead>\n",
              "    <tr style=\"text-align: right;\">\n",
              "      <th></th>\n",
              "      <th>PassengerId</th>\n",
              "      <th>Survived</th>\n",
              "    </tr>\n",
              "  </thead>\n",
              "  <tbody>\n",
              "    <tr>\n",
              "      <th>0</th>\n",
              "      <td>1227</td>\n",
              "      <td>0</td>\n",
              "    </tr>\n",
              "    <tr>\n",
              "      <th>1</th>\n",
              "      <td>1050</td>\n",
              "      <td>0</td>\n",
              "    </tr>\n",
              "    <tr>\n",
              "      <th>2</th>\n",
              "      <td>1128</td>\n",
              "      <td>0</td>\n",
              "    </tr>\n",
              "    <tr>\n",
              "      <th>3</th>\n",
              "      <td>1083</td>\n",
              "      <td>0</td>\n",
              "    </tr>\n",
              "    <tr>\n",
              "      <th>4</th>\n",
              "      <td>1158</td>\n",
              "      <td>0</td>\n",
              "    </tr>\n",
              "    <tr>\n",
              "      <th>...</th>\n",
              "      <td>...</td>\n",
              "      <td>...</td>\n",
              "    </tr>\n",
              "    <tr>\n",
              "      <th>413</th>\n",
              "      <td>1114</td>\n",
              "      <td>1</td>\n",
              "    </tr>\n",
              "    <tr>\n",
              "      <th>414</th>\n",
              "      <td>925</td>\n",
              "      <td>0</td>\n",
              "    </tr>\n",
              "    <tr>\n",
              "      <th>415</th>\n",
              "      <td>1136</td>\n",
              "      <td>0</td>\n",
              "    </tr>\n",
              "    <tr>\n",
              "      <th>416</th>\n",
              "      <td>1059</td>\n",
              "      <td>0</td>\n",
              "    </tr>\n",
              "    <tr>\n",
              "      <th>417</th>\n",
              "      <td>906</td>\n",
              "      <td>1</td>\n",
              "    </tr>\n",
              "  </tbody>\n",
              "</table>\n",
              "<p>418 rows × 2 columns</p>\n",
              "</div>\n",
              "      <button class=\"colab-df-convert\" onclick=\"convertToInteractive('df-4d98abc6-bb56-4567-b712-8e691dc14f10')\"\n",
              "              title=\"Convert this dataframe to an interactive table.\"\n",
              "              style=\"display:none;\">\n",
              "        \n",
              "  <svg xmlns=\"http://www.w3.org/2000/svg\" height=\"24px\"viewBox=\"0 0 24 24\"\n",
              "       width=\"24px\">\n",
              "    <path d=\"M0 0h24v24H0V0z\" fill=\"none\"/>\n",
              "    <path d=\"M18.56 5.44l.94 2.06.94-2.06 2.06-.94-2.06-.94-.94-2.06-.94 2.06-2.06.94zm-11 1L8.5 8.5l.94-2.06 2.06-.94-2.06-.94L8.5 2.5l-.94 2.06-2.06.94zm10 10l.94 2.06.94-2.06 2.06-.94-2.06-.94-.94-2.06-.94 2.06-2.06.94z\"/><path d=\"M17.41 7.96l-1.37-1.37c-.4-.4-.92-.59-1.43-.59-.52 0-1.04.2-1.43.59L10.3 9.45l-7.72 7.72c-.78.78-.78 2.05 0 2.83L4 21.41c.39.39.9.59 1.41.59.51 0 1.02-.2 1.41-.59l7.78-7.78 2.81-2.81c.8-.78.8-2.07 0-2.86zM5.41 20L4 18.59l7.72-7.72 1.47 1.35L5.41 20z\"/>\n",
              "  </svg>\n",
              "      </button>\n",
              "      \n",
              "  <style>\n",
              "    .colab-df-container {\n",
              "      display:flex;\n",
              "      flex-wrap:wrap;\n",
              "      gap: 12px;\n",
              "    }\n",
              "\n",
              "    .colab-df-convert {\n",
              "      background-color: #E8F0FE;\n",
              "      border: none;\n",
              "      border-radius: 50%;\n",
              "      cursor: pointer;\n",
              "      display: none;\n",
              "      fill: #1967D2;\n",
              "      height: 32px;\n",
              "      padding: 0 0 0 0;\n",
              "      width: 32px;\n",
              "    }\n",
              "\n",
              "    .colab-df-convert:hover {\n",
              "      background-color: #E2EBFA;\n",
              "      box-shadow: 0px 1px 2px rgba(60, 64, 67, 0.3), 0px 1px 3px 1px rgba(60, 64, 67, 0.15);\n",
              "      fill: #174EA6;\n",
              "    }\n",
              "\n",
              "    [theme=dark] .colab-df-convert {\n",
              "      background-color: #3B4455;\n",
              "      fill: #D2E3FC;\n",
              "    }\n",
              "\n",
              "    [theme=dark] .colab-df-convert:hover {\n",
              "      background-color: #434B5C;\n",
              "      box-shadow: 0px 1px 3px 1px rgba(0, 0, 0, 0.15);\n",
              "      filter: drop-shadow(0px 1px 2px rgba(0, 0, 0, 0.3));\n",
              "      fill: #FFFFFF;\n",
              "    }\n",
              "  </style>\n",
              "\n",
              "      <script>\n",
              "        const buttonEl =\n",
              "          document.querySelector('#df-4d98abc6-bb56-4567-b712-8e691dc14f10 button.colab-df-convert');\n",
              "        buttonEl.style.display =\n",
              "          google.colab.kernel.accessAllowed ? 'block' : 'none';\n",
              "\n",
              "        async function convertToInteractive(key) {\n",
              "          const element = document.querySelector('#df-4d98abc6-bb56-4567-b712-8e691dc14f10');\n",
              "          const dataTable =\n",
              "            await google.colab.kernel.invokeFunction('convertToInteractive',\n",
              "                                                     [key], {});\n",
              "          if (!dataTable) return;\n",
              "\n",
              "          const docLinkHtml = 'Like what you see? Visit the ' +\n",
              "            '<a target=\"_blank\" href=https://colab.research.google.com/notebooks/data_table.ipynb>data table notebook</a>'\n",
              "            + ' to learn more about interactive tables.';\n",
              "          element.innerHTML = '';\n",
              "          dataTable['output_type'] = 'display_data';\n",
              "          await google.colab.output.renderOutput(dataTable, element);\n",
              "          const docLink = document.createElement('div');\n",
              "          docLink.innerHTML = docLinkHtml;\n",
              "          element.appendChild(docLink);\n",
              "        }\n",
              "      </script>\n",
              "    </div>\n",
              "  </div>\n",
              "  "
            ],
            "text/plain": [
              "     PassengerId  Survived\n",
              "0           1227         0\n",
              "1           1050         0\n",
              "2           1128         0\n",
              "3           1083         0\n",
              "4           1158         0\n",
              "..           ...       ...\n",
              "413         1114         1\n",
              "414          925         0\n",
              "415         1136         0\n",
              "416         1059         0\n",
              "417          906         1\n",
              "\n",
              "[418 rows x 2 columns]"
            ]
          },
          "execution_count": 27,
          "metadata": {},
          "output_type": "execute_result"
        }
      ],
      "source": [
        "final_test = predict_testset(test, train, number_of_neighbors=10)\n",
        "result = final_test[['PassengerId', 'Survived']].copy()\n",
        "result"
      ]
    }
  ],
  "metadata": {
    "colab": {
      "name": "Model KNN.ipynb",
      "provenance": []
    },
    "interpreter": {
      "hash": "3921429795da72bcdefe31bc670504cfa114cd629c6b9d0761da89a7f661a734"
    },
    "kernelspec": {
      "display_name": "Python 3.9.6 64-bit",
      "language": "python",
      "name": "python3"
    },
    "language_info": {
      "codemirror_mode": {
        "name": "ipython",
        "version": 3
      },
      "file_extension": ".py",
      "mimetype": "text/x-python",
      "name": "python",
      "nbconvert_exporter": "python",
      "pygments_lexer": "ipython3",
      "version": "3.9.6"
    }
  },
  "nbformat": 4,
  "nbformat_minor": 0
}
